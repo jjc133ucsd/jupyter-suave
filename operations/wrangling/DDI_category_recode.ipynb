{
 "cells": [
  {
   "cell_type": "markdown",
   "metadata": {},
   "source": [
    "<h1><span style=\"color:red\">Recoding variables using DDI 2.0/2.5 metadata</span></h1>\n",
    "\n",
    "Using this notebook, you can import a DDI codebook and use it to reformat categorical variables, with the option to recode question labels. Then the notebook will let you create a new SuAVE survey with the updated survey file. Currently this notebook does not check for vargrp tags in the DDI codebook.\n",
    "\n",
    "Author: John Chen\n",
    "(Adapted from ordinal recode by Iakov Vasilyev)\n"
   ]
  },
  {
   "cell_type": "markdown",
   "metadata": {},
   "source": [
    "## 1. Retrieve survey parameters from the URL"
   ]
  },
  {
   "cell_type": "code",
   "execution_count": null,
   "metadata": {},
   "outputs": [],
   "source": [
    "%%javascript\n",
    "function getQueryStringValue (key)\n",
    "{  \n",
    "    return unescape(window.location.search.replace(new RegExp(\"^(?:.*[&\\\\?]\" + escape(key).replace(/[\\.\\+\\*]/g, \"\\\\$&\") + \"(?:\\\\=([^&]*))?)?.*$\", \"i\"), \"$1\"));\n",
    "}\n",
    "IPython.notebook.kernel.execute(\"survey_url='\".concat(getQueryStringValue(\"surveyurl\")).concat(\"'\"));\n",
    "IPython.notebook.kernel.execute(\"views='\".concat(getQueryStringValue(\"views\")).concat(\"'\"));\n",
    "IPython.notebook.kernel.execute(\"view='\".concat(getQueryStringValue(\"view\")).concat(\"'\"));\n",
    "IPython.notebook.kernel.execute(\"user='\".concat(getQueryStringValue(\"user\")).concat(\"'\"));\n",
    "IPython.notebook.kernel.execute(\"csv_file='\".concat(getQueryStringValue(\"csv\")).concat(\"'\")); \n",
    "IPython.notebook.kernel.execute(\"dzc_file='\".concat(getQueryStringValue(\"dzc\")).concat(\"'\")); \n",
    "IPython.notebook.kernel.execute(\"params='\".concat(getQueryStringValue(\"params\")).concat(\"'\")); \n",
    "IPython.notebook.kernel.execute(\"active_object='\".concat(getQueryStringValue(\"activeobject\")).concat(\"'\")); \n",
    "IPython.notebook.kernel.execute(\"full_notebook_url='\" + window.location + \"'\"); "
   ]
  },
  {
   "cell_type": "markdown",
   "metadata": {},
   "source": [
    "## 2. Import libraries"
   ]
  },
  {
   "cell_type": "code",
   "execution_count": null,
   "metadata": {
    "ExecuteTime": {
     "end_time": "2016-09-06T17:02:37.986507",
     "start_time": "2016-09-06T17:02:37.525080"
    },
    "run_control": {
     "frozen": false,
     "read_only": false
    }
   },
   "outputs": [],
   "source": [
    "#common imports\n",
    "from __future__ import print_function\n",
    "from ipywidgets import interact, interactive, fixed, interact_manual\n",
    "import ipywidgets as widgets\n",
    "from IPython.display import Markdown, display\n",
    "\n",
    "import param\n",
    "import panel as pn\n",
    "import pandas as pd\n",
    "import numpy as np\n",
    "import xml.etree.ElementTree as ET\n",
    "\n",
    "pn.extension()\n",
    "\n",
    "def printmd(string):\n",
    "    display(Markdown(string))\n",
    "\n",
    "absolutePath = \"../../temp_csvs/\"\n",
    "codebookPath = \"../../temp_csvs\"#temp_codebooks/\"\n",
    "\n",
    "# local imports\n",
    "import sys\n",
    "sys.path.insert(1, '../../helpers')\n",
    "import panel_libs as panellibs\n",
    "import suave_integration as suaveint\n",
    "\n",
    "url_partitioned = full_notebook_url.partition('/operations')\n",
    "base_url = url_partitioned[0];\n",
    "\n",
    "import re"
   ]
  },
  {
   "cell_type": "code",
   "execution_count": null,
   "metadata": {
    "ExecuteTime": {
     "end_time": "2016-09-06T17:05:17.902671",
     "start_time": "2016-09-06T17:05:17.642016"
    },
    "run_control": {
     "frozen": false,
     "read_only": false
    }
   },
   "outputs": [],
   "source": [
    "def slider(data):\n",
    "    \"\"\"\n",
    "    slider creates an interactive display of a\n",
    "    data frame.\n",
    "    \n",
    "    :param df: data frame\n",
    "    :returns: interactive dataframe\n",
    "    \"\"\"\n",
    "    \n",
    "    ## Row Selector widget\n",
    "    row_selection = pn.widgets.IntSlider(name='Navigate Rows', width=350, \n",
    "                                         margin=(0,50,-15,0), end=len(df)-1)\n",
    "\n",
    "    # Column Selector widget\n",
    "    col_selection = pn.widgets.IntSlider(name='Navigate Columns', width=350, \n",
    "                                         margin=(0,0,5,0), end=len(df.columns))\n",
    "    \n",
    "    @pn.depends(row_selection.param.value, col_selection.param.value)\n",
    "    def navigate_data(row=0, col=0):\n",
    "        return data.iloc[row:row+5, col:col+10]\n",
    "    \n",
    "    sliders = pn.Row(row_selection, col_selection, margin=(0,0,0,10))\n",
    "    full_widget = pn.Column(sliders, navigate_data)\n",
    "    return full_widget\n",
    "\n",
    "def extract_url(url, file_type):\n",
    "    \"\"\"\n",
    "    extract_url reads a file provided as a url link\n",
    "    \n",
    "    :param url: string representing url link to file\n",
    "    :param file_type: string representing file extension, .csv or .tsv\n",
    "    :returns: data frame of file\n",
    "    \"\"\"\n",
    "    if file_type == 'csv':\n",
    "        try:\n",
    "            data = pd.read_csv(url, sep=',', encoding=\"latin-1\")\n",
    "        except UniodeDecodeError:\n",
    "            data = pd.read_csv(url, sep=',', encoding=\"ISO-8859-1\")\n",
    "    elif file_type == 'tsv':\n",
    "        try:\n",
    "            data = pd.read_csv(url, sep='\\t', encoding=\"latin-1\")\n",
    "        except UniodeDecodeError:\n",
    "            data = pd.read_csv(url, sep='\\t', encoding=\"ISO-8859-1\")\n",
    "    else:\n",
    "        return None\n",
    "    \n",
    "    return data\n",
    "\n",
    "def extract_data(path):\n",
    "    \"\"\"\n",
    "    extract_data reads files from various formats\n",
    "    \n",
    "    :param link: string representing path to file\n",
    "    :returns: data frame of file\n",
    "    \"\"\"\n",
    "\n",
    "    # Reading file at path\n",
    "    if path.endswith(('.txt', 'tsv')):\n",
    "        try:\n",
    "            data = pd.read_csv(path, sep='\\t', encoding=\"latin-1\")\n",
    "        except UnicodeDecodeError:\n",
    "            data = pd.read_csv(path, sep='\\t', encoding=\"ISO-8859-1\")\n",
    "    elif path.endswith('.csv'):\n",
    "        try:\n",
    "            data = pd.read_csv(path, encoding=\"latin-1\")\n",
    "        except UnicodeDecodeError:\n",
    "            data = pd.read_csv(path, encoding=\"ISO-8859-1\")\n",
    "    elif path.endswith('.sav'):\n",
    "        try:\n",
    "            data = pd.read_spss(path, encoding=\"latin-1\")\n",
    "        except UnicodeDecodeError:\n",
    "            data = pd.read_csv(path, encoding=\"ISO-8859-1\")\n",
    "    else:\n",
    "        return None\n",
    "    \n",
    "    return data\n",
    "\n",
    "def extract_xml(path):\n",
    "    \"\"\"\n",
    "    extract_xml reads in an xml formatted file\n",
    "    :param path: string representing path to file\n",
    "    :returns: element tree of xml hierarchy\n",
    "    \"\"\"\n",
    "    if path.endswith('.xml'):\n",
    "        tree = ET.parse(path)\n",
    "    else:\n",
    "        return None\n",
    "    \n",
    "    return tree"
   ]
  },
  {
   "cell_type": "markdown",
   "metadata": {},
   "source": [
    "## 3. Import DDI codebook"
   ]
  },
  {
   "cell_type": "code",
   "execution_count": null,
   "metadata": {},
   "outputs": [],
   "source": [
    "#widget for file upload\n",
    "ddi_input = pn.widgets.FileInput(accept='.xml')\n",
    "ddi_select = pn.widgets.RadioBoxGroup(name='Select DDI version', options=['DDI 2.0/DDI Lite', \n",
    "                                                                        'DDI 2.5'], \n",
    "                                       inline=False)\n",
    "    \n",
    "pn.Column('Upload metadata and proceed to step 4' , ddi_input, ddi_select)\n",
    "\n"
   ]
  },
  {
   "cell_type": "code",
   "execution_count": null,
   "metadata": {},
   "outputs": [],
   "source": [
    "ns = {}\n",
    "global xmlname\n",
    "\n",
    "if ddi_select.value == 'DDI 2.0/DDI Lite':\n",
    "    ns = {'ddi': 'http://www.icpsr.umich.edu/DDI'}\n",
    "else:\n",
    "    ns = {'ddi': 'ddi:codebook:2_5'}\n",
    "    \n",
    "if not pd.isnull(ddi_input.filename):\n",
    "    xmlname = codebookPath + ddi_input.filename\n",
    "    ddi_input.save(xmlname)\n",
    "\n",
    "varData = extract_xml(xmlname)\n",
    "dataDscr = varData.find('ddi:dataDscr', ns)\n"
   ]
  },
  {
   "cell_type": "markdown",
   "metadata": {},
   "source": [
    "## 4. Select a survey file from SuAVE, import a local CSV file, or get survey from url"
   ]
  },
  {
   "cell_type": "code",
   "execution_count": null,
   "metadata": {},
   "outputs": [],
   "source": [
    "data_select = pn.widgets.RadioBoxGroup(name='Select notebook', options=['Load survey file from SuAVE', \n",
    "                                                                        'Import a local CSV file', 'Get survey from url'], \n",
    "                                       inline=False)\n",
    "data_select"
   ]
  },
  {
   "cell_type": "code",
   "execution_count": null,
   "metadata": {},
   "outputs": [],
   "source": [
    "data_input = pn.widgets.FileInput()\n",
    "url_input = pn.widgets.TextInput()\n",
    "url_survey_format = pn.widgets.RadioBoxGroup(name='Get filetype', options=['csv', \n",
    "                                                                        'tsv'], \n",
    "                                       inline=False)\n",
    "    \n",
    "def check_selection():\n",
    "    if data_select.value == 'Load survey file from SuAVE':\n",
    "        global fname\n",
    "        fname = absolutePath + csv_file\n",
    "        printmd(\"<b><span style='color:red'>SuAVE survey will be loaded. Continue to step 5.</span></b>\")\n",
    "        return\n",
    "\n",
    "    elif data_select.value == 'Import a local CSV file':\n",
    "        message = pn.pane.HTML(\"<b><span style='color:red'>Upload data and continue to step 5.</span></b>\")\n",
    "        return pn.Column(message, data_input)\n",
    "    else:\n",
    "        message = pn.pane.HTML(\"<b><span style='color:red'>Input survey url here, press Enter, and then run the next cell:</span></b>\")\n",
    "        return pn.Column(message, url_input, url_survey_format)\n",
    "    \n",
    "check_selection()"
   ]
  },
  {
   "cell_type": "code",
   "execution_count": null,
   "metadata": {},
   "outputs": [],
   "source": [
    "df = pd.DataFrame()\n",
    "if not pd.isnull(data_input.filename):\n",
    "    fname = absolutePath + data_input.filename\n",
    "    data_input.save(fname)\n",
    "    df = extract_data(fname)\n",
    "elif not pd.isnull(url_input.value):\n",
    "    df = extract_url(url_input.value, url_survey_format.value)\n",
    "\n",
    "#for testing only\n",
    "#df = df.head(100) "
   ]
  },
  {
   "cell_type": "markdown",
   "metadata": {},
   "source": [
    "## 5. Recode categorical data values using DDI codebook"
   ]
  },
  {
   "cell_type": "code",
   "execution_count": null,
   "metadata": {},
   "outputs": [],
   "source": [
    "#Loop through every variable defined in codebook\n",
    "for var in dataDscr.findall('ddi:var', ns):\n",
    "    name = var.attrib['name']\n",
    "    varformat = var.find(\"ddi:varFormat\", ns).attrib['type'] \n",
    "    catgrytrue = ET.iselement(var.find(\"ddi:catgry\", ns))\n",
    "    if catgrytrue and varformat == 'numeric':\n",
    "        \n",
    "        #If variable is categorical, create a dictionary matching numeric value to label\n",
    "        catdict = {}\n",
    "        for cat in var.findall('ddi:catgry', ns):\n",
    "            catVal = cat[0].text.strip(' \\n\\t')\n",
    "            catdict[int(catVal)] = catVal + \" \" + cat[1].text.strip(' \\n\\t')\n",
    "            \n",
    "        #Replace values using dictionary\n",
    "        df = df.replace({name : catdict})\n",
    "\n",
    "#display survey values\n",
    "updated_df = df.copy()\n",
    "panellibs.slider(updated_df)\n"
   ]
  },
  {
   "cell_type": "markdown",
   "metadata": {},
   "source": [
    "## 6. Edit variable names"
   ]
  },
  {
   "cell_type": "markdown",
   "metadata": {},
   "source": [
    "Note: If question label was improperly defined in the codebook, they may be poorly formatted or too long to display in SuAVE or poorly formatted. In that case, some manual cleanup may be required"
   ]
  },
  {
   "cell_type": "code",
   "execution_count": null,
   "metadata": {
    "scrolled": true
   },
   "outputs": [],
   "source": [
    "#create dataframe with questions and their labels\n",
    "\n",
    "#get question labl text from codebook\n",
    "qstnlabl = []\n",
    "for var in dataDscr.findall('ddi:var', ns):\n",
    "    labl = var.find('ddi:labl', ns)\n",
    "    if labl is not None:\n",
    "        qstnlabl.append(labl.text)\n",
    "    else:\n",
    "        qstnlabl.append(None)\n",
    "\n",
    "        \n",
    "#convert to dataframe using var name as index and question label as value\n",
    "qstndf = pd.DataFrame({'questions':qstnlabl}, index=[var.attrib['name'] for var in dataDscr.findall('ddi:var', ns)])\n",
    "\n",
    "#display question values\n",
    "panellibs.slider(qstndf)"
   ]
  },
  {
   "cell_type": "markdown",
   "metadata": {},
   "source": [
    "\n",
    "## 6a. Create question groupings"
   ]
  },
  {
   "cell_type": "markdown",
   "metadata": {},
   "source": [
    "If vargrp wasn't defined in the codebook, this widget allows for manual selection of groups, which may help in editing question values"
   ]
  },
  {
   "cell_type": "code",
   "execution_count": null,
   "metadata": {},
   "outputs": [],
   "source": [
    "#Question group panel\n",
    "# Left panel\n",
    "left_text = pn.Row(\"####Select Variables\", margin=(0,0,-15,270))\n",
    "group_selector = pn.widgets.CrossSelector(options=list(df.columns), width=630)\n",
    "left_panel = pn.Column(left_text, group_selector, css_classes=['widget-box'], margin=(0,30,0,0))\n",
    "\n",
    "# Right panel\n",
    "group_text = pn.Row(\"####Specify Group Name\", margin=(0,0,-20, 25))\n",
    "group_name = pn.widgets.TextInput(placeholder='Enter Name', width=200, margin=(11,10,10,10))\n",
    "name_input = pn.Column(group_text, group_name, margin=(-5,0,0,0))\n",
    "right_panel = pn.Column(name_input, css_classes=['widget-box'], width=225, height=150)\n",
    "\n",
    "apply_button = pn.widgets.Toggle(name='Create Mapping', button_type='primary',  margin=(30,0,10,10), width=200)\n",
    "\n",
    "# Groupings display\n",
    "group_text = pn.pane.Markdown('#### Groupings ', width=950)\n",
    "\n",
    "Groupings = {}\n",
    "#condition_values = []\n",
    "@pn.depends(group_selector.param.value, apply_button.param.value)\n",
    "def group(b_var, apply):\n",
    "    apply_button.value = False\n",
    "    \n",
    "    if (b_var != []):\n",
    "        \n",
    "        # Determines possible conditions based on variables selected\n",
    "        possible_conditions = pd.unique(df[b_var].values.ravel('K'))\n",
    "        if (group_name.value != '') and apply:\n",
    "            \n",
    "            # Creates mapping\n",
    "            new_group = group_name.value\n",
    "            Groupings[new_group] = b_var\n",
    "            #condition_values.append(condition.value)\n",
    "            \n",
    "            # Refreshes selected group values and name\n",
    "            group_selector.value = []\n",
    "            group_name.value = ''\n",
    "            \n",
    "            # Updates grouping display\n",
    "            new_mapping = '- **'+ str(new_group) + '**' +' &rarr; '+ str(Groupings[new_group])\n",
    "            group_text.object = group_text.object + '\\n' + new_mapping\n",
    "            \n",
    "            return group_text\n",
    "        \n",
    "    return group_text\n",
    "\n",
    "# Display widgets\n",
    "widgets = pn.Row(left_panel, pn.Column(right_panel, apply_button))\n",
    "full_display = pn.Column(widgets, group)\n",
    "full_display"
   ]
  },
  {
   "cell_type": "markdown",
   "metadata": {},
   "source": [
    "<b><span style=\"color:red\">Workspace for additional formatting changes</span></b>"
   ]
  },
  {
   "cell_type": "code",
   "execution_count": null,
   "metadata": {},
   "outputs": [],
   "source": [
    "'''\n",
    "Key variables:\n",
    "  Groupings provides names of variables within each defined group\n",
    "  qstndf is a Dataframe of questions labeled by var name\n",
    "'''\n",
    "\n",
    "#Example:\n",
    "#get all questions from group 'Q3', and save as a dataframe\n",
    "Q3_df = qstndf.loc[[var for var in Groupings['Q3']]]\n",
    "\n",
    "#remove first 20 characters from each question in Q3_df\n",
    "#Q3_df"
   ]
  },
  {
   "cell_type": "code",
   "execution_count": null,
   "metadata": {},
   "outputs": [],
   "source": [
    "#replace var name with questions\n",
    "updated_df.columns = qstndf['questions'].tolist()\n",
    "panellibs.slider(updated_df)"
   ]
  },
  {
   "cell_type": "markdown",
   "metadata": {},
   "source": [
    "## 7. Generate a new survey and open it in SuAVE"
   ]
  },
  {
   "cell_type": "code",
   "execution_count": null,
   "metadata": {},
   "outputs": [],
   "source": [
    "# new filename\n",
    "\n",
    "if data_select.value == 'Import a local CSV file':\n",
    "    csv_file = data_input.filename\n",
    "df = updated_df\n",
    "new_file = absolutePath + csv_file[:-4]+'_v1.csv'\n",
    "printmd(\"<b><span style='color:red'>A new temporary file will be created at: </span></b>\")\n",
    "print(new_file)\n",
    "df.to_csv(new_file, index=None)"
   ]
  },
  {
   "cell_type": "code",
   "execution_count": null,
   "metadata": {},
   "outputs": [],
   "source": [
    "#Input survey name\n",
    "\n",
    "input_text = widgets.Text()\n",
    "output_text = widgets.Text()\n",
    "\n",
    "def bind_input_to_output(sender):\n",
    "    output_text.value = input_text.value\n",
    "\n",
    "# Tell the text input widget to call bind_input_to_output() on submit\n",
    "input_text.on_submit(bind_input_to_output)\n",
    "\n",
    "printmd(\"<b><span style='color:red'>Input survey name here, press Enter, and then run the next cell:</span></b>\")\n",
    "# Display input text box widget for input\n",
    "display(input_text)\n",
    "\n",
    "display(output_text)"
   ]
  },
  {
   "cell_type": "code",
   "execution_count": null,
   "metadata": {},
   "outputs": [],
   "source": [
    "#Print survey name\n",
    "survey_name = output_text.value\n",
    "printmd(\"<b><span style='color:red'>Survey Name is: </span></b>\" + survey_name)"
   ]
  },
  {
   "cell_type": "code",
   "execution_count": null,
   "metadata": {},
   "outputs": [],
   "source": [
    "referer = survey_url.split(\"/main\")[0] +\"/\"\n",
    "upload_url = referer + \"uploadCSV\"\n",
    "new_survey_url_base = survey_url.split(user)[0]\n",
    "\n",
    "import requests\n",
    "import re\n",
    "csv = {\"file\": open(new_file, \"rb\")}\n",
    "\n",
    "if data_select.value == 'Import a local CSV file':\n",
    "    dzc_file = ''\n",
    "    views = '1110001'\n",
    "    view='grid'\n",
    "\n",
    "upload_data = {\n",
    "    'name': input_text.value,\n",
    "    'dzc': dzc_file,\n",
    "    'user':user\n",
    "}\n",
    "headers = {\n",
    "    'User-Agent': 'suave user agent',\n",
    "    'referer': referer\n",
    "}\n",
    "\n",
    "r = requests.post(upload_url, files=csv, data=upload_data, headers=headers)\n",
    "\n",
    "if r.status_code == 200:\n",
    "    printmd(\"<b><span style='color:red'>New survey created successfully</span></b>\")\n",
    "    regex = re.compile('[^0-9a-zA-Z_]')\n",
    "    s_url = survey_name\n",
    "    s_url =  regex.sub('_', s_url)\n",
    "\n",
    "    url = new_survey_url_base + user + \"_\" + s_url + \".csv\" + \"&views=\" + views + \"&view=\" + view\n",
    "    print(url)\n",
    "    printmd(\"<b><span style='color:red'>Click the URL to open the new survey</span></b>\")\n",
    "else:\n",
    "    printmd(\"<b><span style='color:red'>Error creating new survey. Check if a survey with this name already exists.</span></b>\")\n",
    "    printmd(\"<b><span style='color:red'>Reason: </span></b>\"+ str(r.status_code) + \" \" + r.reason)"
   ]
  },
  {
   "cell_type": "code",
   "execution_count": null,
   "metadata": {},
   "outputs": [],
   "source": []
  }
 ],
 "metadata": {
  "kernelspec": {
   "display_name": "Python 3",
   "language": "python",
   "name": "python3"
  },
  "language_info": {
   "codemirror_mode": {
    "name": "ipython",
    "version": 3
   },
   "file_extension": ".py",
   "mimetype": "text/x-python",
   "name": "python",
   "nbconvert_exporter": "python",
   "pygments_lexer": "ipython3",
   "version": "3.8.3"
  },
  "nav_menu": {},
  "toc": {
   "navigate_menu": true,
   "number_sections": true,
   "sideBar": true,
   "threshold": 6,
   "toc_cell": false,
   "toc_section_display": "block",
   "toc_window_display": false
  }
 },
 "nbformat": 4,
 "nbformat_minor": 4
}
